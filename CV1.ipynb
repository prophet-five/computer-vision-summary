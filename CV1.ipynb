{
 "cells": [
  {
   "cell_type": "markdown",
   "metadata": {
    "pycharm": {
     "name": "#%% md\n"
    }
   },
   "source": [
    "# Planar Geometry (2-space)\n"
   ]
  },
  {
   "cell_type": "markdown",
   "metadata": {
    "pycharm": {
     "name": "#%% md\n"
    }
   },
   "source": [
    "## Homogeneous Representation\n",
    "\n",
    "### Lines\n",
    "An equation:\n",
    "\n",
    "\\begin{equation}\n",
    "ax+by+c=0\n",
    "\\end{equation}\n",
    "\n",
    "Represented by: $(a,b,c)^T$.  \n",
    "Represents same line as $k(a,b,c)^T$\n",
    "\n",
    "#### Intersection\n",
    "point x:  \n",
    "x= ${\\bf l} \\times {\\bf l'}$\n",
    "\n",
    "#### Line joining points\n",
    "\n",
    "line through two point x,x':  \n",
    "$x \\times x'$\n",
    "\n",
    "Intersection of parallel lines:  \n",
    "\n",
    "two lines:${\\bf l}=(a,b,c)^T$ and ${\\bf l'}=(a,b,c')^T$:  \n",
    "\n",
    "\n",
    "### The projective space\n",
    "denoted $\\mathbb{P}^2 \\ is \\ \\mathbb{R}^3 \\setminus (0,0,0)^T$\n",
    "\n",
    "### Points\n",
    "A point $x=(x,y)^T$ is in line ${\\bf l}=(a,b,c)^T$ iff ax+by+c=0  \n",
    "same as: $(x,y,1){\\bf l}$ =0\n",
    "The point is represented as $(x,y,1)^T$\n",
    "\n",
    "### DOF\n",
    "2 degrees of freedom - for x and for y (for points and lines)"
   ]
  },
  {
   "cell_type": "markdown",
   "metadata": {
    "pycharm": {
     "name": "#%% md\n"
    }
   },
   "source": [
    "## Conics\n",
    "Described by the equation:\n",
    "\\begin{equation}\n",
    "ax^2 + bxy + cy^2 + dx + ey + f\n",
    "\\end{equation}\n",
    "\n",
    "In \"homogenized\" representation:\n",
    "\n",
    "\\begin{equation}\n",
    "{ax_1}^2 + bx_1x_2 + {cx_2}^2 + dx_1x_3 + ex_2x_3 + {fx_3}^2\n",
    "\\end{equation}\n",
    "\n",
    "in matrix form: $x^TCx=0$  \n",
    "where $C  = \\[\n",
    "    \\left[\\begin{array}{}\n",
    "        a & b/2 & d/2 \\\\\n",
    "        b/2 & c & e/2 \\\\\n",
    "        d/2 & e/2 & f \\\\\n",
    "        \\end{array}\\right]\n",
    "        \\]$\n",
    "        \n",
    "### DOF\n",
    "The conic has five degrees of freedom: 6 variables where we can normalize to one of them.  \n",
    "equivalently: as the five ratios {a:b:c:d:e:f}\n",
    "\n",
    "    So we need 5 points to define a conic\n",
    "\n",
    "### line tangent to a conic\n",
    "\n",
    "the line ${\\bf l}$ is tangent to C at point x: ${\\bf l} = Cx$"
   ]
  },
  {
   "cell_type": "markdown",
   "source": [
    "## Projective transformation\n",
    "aka projectivity, aka homography, denoted h, is a transformation from $\\mathbb{P}^2$ to itself, that preserves lines.  \n",
    "i.e. three points are on the same line iff their homography is on the same line\n",
    "\n",
    "\\begin{theorem}\n",
    "sdf\n",
    "\n",
    "\\end{theorem}\n"
   ],
   "metadata": {
    "collapsed": false,
    "pycharm": {
     "name": "#%% md\n"
    }
   }
  },
  {
   "cell_type": "code",
   "execution_count": null,
   "outputs": [],
   "source": [],
   "metadata": {
    "collapsed": false,
    "pycharm": {
     "name": "#%%\n"
    }
   }
  },
  {
   "cell_type": "code",
   "execution_count": null,
   "metadata": {},
   "outputs": [],
   "source": []
  },
  {
   "cell_type": "code",
   "execution_count": null,
   "metadata": {},
   "outputs": [],
   "source": []
  }
 ],
 "metadata": {
  "kernelspec": {
   "display_name": "Python 3 (ipykernel)",
   "language": "python",
   "name": "python3"
  },
  "language_info": {
   "codemirror_mode": {
    "name": "ipython",
    "version": 3
   },
   "file_extension": ".py",
   "mimetype": "text/x-python",
   "name": "python",
   "nbconvert_exporter": "python",
   "pygments_lexer": "ipython3",
   "version": "3.10.4"
  },
  "latex_envs": {
   "LaTeX_envs_menu_present": true,
   "autoclose": false,
   "autocomplete": true,
   "bibliofile": "biblio.bib",
   "cite_by": "apalike",
   "current_citInitial": 1,
   "eqLabelWithNumbers": true,
   "eqNumInitial": 1,
   "hotkeys": {
    "itemize": "ctrl-q"
   },
   "labels_anchors": true,
   "latex_user_defs": false,
   "report_style_numbering": false,
   "user_envs_cfg": false
  },
  "toc": {
   "base_numbering": 1,
   "nav_menu": {},
   "number_sections": true,
   "sideBar": true,
   "skip_h1_title": false,
   "title_cell": "Table of Contents",
   "title_sidebar": "Contents",
   "toc_cell": false,
   "toc_position": {
    "height": "calc(100% - 180px)",
    "left": "10px",
    "top": "150px",
    "width": "384px"
   },
   "toc_section_display": true,
   "toc_window_display": true
  },
  "varInspector": {
   "cols": {
    "lenName": 16,
    "lenType": 16,
    "lenVar": 40
   },
   "kernels_config": {
    "python": {
     "delete_cmd_postfix": "",
     "delete_cmd_prefix": "del ",
     "library": "var_list.py",
     "varRefreshCmd": "print(var_dic_list())"
    },
    "r": {
     "delete_cmd_postfix": ") ",
     "delete_cmd_prefix": "rm(",
     "library": "var_list.r",
     "varRefreshCmd": "cat(var_dic_list()) "
    }
   },
   "types_to_exclude": [
    "module",
    "function",
    "builtin_function_or_method",
    "instance",
    "_Feature"
   ],
   "window_display": false
  }
 },
 "nbformat": 4,
 "nbformat_minor": 1
}